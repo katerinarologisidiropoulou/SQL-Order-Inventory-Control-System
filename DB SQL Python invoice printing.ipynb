{
 "cells": [
  {
   "cell_type": "code",
   "execution_count": 1,
   "id": "1d87cbce",
   "metadata": {},
   "outputs": [
    {
     "name": "stdout",
     "output_type": "stream",
     "text": [
      "Δώστε έναν κωδικό παραγγελίας: 15889634\n",
      "15889634\n",
      "ΚΩΔΙΚΟΣ\tΗΜΕΡΟΜΗΝΙΑ_ΠΑΡ\tΗΜΕΡΟΜΗΝΙΑ_ΑΠΟΣΤ\tΠΕΛΑΤΗΣ\tΠΡΟΪΟΝ\tΠΟΣΟΤΗΤΑ\tΠΑΡΑΓΓΕΛΙΑ\tΚΩΔΙΚΟΣ\tΟΝΟΜΑΣΙΑ\tΠΕΡΙΓΡΑΦΗ\tΤΙΜΗ\tΑΠΟΘΕΜΑ\tΚΑΤΗΓΟΡΙΑ\n",
      "15889634\t2023-05-14\t2023-05-17\t5210456255\t5411\t10\t15889634\t5411\tKINHTO\tXIAOMI_12\t309.00\t11\t4753\n"
     ]
    }
   ],
   "source": [
    "import pyodbc\n",
    "order_id = input('Δώστε έναν κωδικό παραγγελίας: ')\n",
    "print(order_id)\n",
    "server = 'sqlserver.dmst.aueb.gr'\n",
    "database = 'DB68'\n",
    "cnxn_str = 'DRIVER={SQL Server Native Client 11.0};'\\\n",
    "           'SERVER='+server+';DATABASE='+database+';'\\\n",
    "           'UID=G568;pwd=39_g59030'\n",
    "cnxn = pyodbc.connect(cnxn_str)\n",
    "cursor = cnxn.cursor()\n",
    "cursor.execute(f'''\n",
    "SELECT*\n",
    "FROM ΠΑΡΑΓΓΕΛΙΕΣ, ΠΕΡΙΕΧΟΜΕΝΟ_ΠΑΡΑΓΓΕΛΙΑΣ, ΠΡΟΪΟΝ\n",
    "WHERE ΠΑΡΑΓΓΕΛΙΕΣ.ΚΩΔΙΚΟΣ = ΠΕΡΙΕΧΟΜΕΝΟ_ΠΑΡΑΓΓΕΛΙΑΣ.ΠΑΡΑΓΓΕΛΙΑ\n",
    "AND ΠΕΡΙΕΧΟΜΕΝΟ_ΠΑΡΑΓΓΕΛΙΑΣ.ΠΡΟΪΟΝ = ΠΡΟΪΟΝ.ΚΩΔΙΚΟΣ\n",
    "AND ΠΑΡΑΓΓΕΛΙΕΣ.ΚΩΔΙΚΟΣ = '{order_id}'\n",
    "''')\n",
    "print('ΚΩΔΙΚΟΣ\\tΗΜΕΡΟΜΗΝΙΑ_ΠΑΡ\\tΗΜΕΡΟΜΗΝΙΑ_ΑΠΟΣΤ\\tΠΕΛΑΤΗΣ\\tΠΡΟΪΟΝ\\tΠΟΣΟΤΗΤΑ\\tΠΑΡΑΓΓΕΛΙΑ\\tΚΩΔΙΚΟΣ\\tΟΝΟΜΑΣΙΑ\\tΠΕΡΙΓΡΑΦΗ\\tΤΙΜΗ\\tΑΠΟΘΕΜΑ\\tΚΑΤΗΓΟΡΙΑ')\n",
    "row = cursor.fetchone()\n",
    "while row:\n",
    "    print('\\t'.join([str(value) for value in row]))\n",
    "    row = cursor.fetchone()\n",
    "\n"
   ]
  },
  {
   "cell_type": "code",
   "execution_count": null,
   "id": "5db1e31f",
   "metadata": {},
   "outputs": [],
   "source": []
  },
  {
   "cell_type": "code",
   "execution_count": null,
   "id": "a1a082c2",
   "metadata": {},
   "outputs": [],
   "source": []
  }
 ],
 "metadata": {
  "kernelspec": {
   "display_name": "Python 3 (ipykernel)",
   "language": "python",
   "name": "python3"
  },
  "language_info": {
   "codemirror_mode": {
    "name": "ipython",
    "version": 3
   },
   "file_extension": ".py",
   "mimetype": "text/x-python",
   "name": "python",
   "nbconvert_exporter": "python",
   "pygments_lexer": "ipython3",
   "version": "3.11.5"
  }
 },
 "nbformat": 4,
 "nbformat_minor": 5
}
